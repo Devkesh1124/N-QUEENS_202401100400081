{
  "nbformat": 4,
  "nbformat_minor": 0,
  "metadata": {
    "colab": {
      "provenance": []
    },
    "kernelspec": {
      "name": "python3",
      "display_name": "Python 3"
    },
    "language_info": {
      "name": "python"
    }
  },
  "cells": [
    {
      "cell_type": "code",
      "execution_count": 1,
      "metadata": {
        "colab": {
          "base_uri": "https://localhost:8080/"
        },
        "id": "4u7pz43YSyjf",
        "outputId": "215f8a23-d7c5-4fc6-c73a-d1329fea7406"
      },
      "outputs": [
        {
          "output_type": "stream",
          "name": "stdout",
          "text": [
            "Enter the number of queens (N): 4\n",
            "\n",
            "Total solutions for 4-Queens: 2\n",
            "\n",
            "Solution 1:\n",
            ".Q..\n",
            "...Q\n",
            "Q...\n",
            "..Q.\n",
            "\n",
            "Solution 2:\n",
            "..Q.\n",
            "Q...\n",
            "...Q\n",
            ".Q..\n",
            "\n"
          ]
        }
      ],
      "source": [
        "def is_position_safe(board, current_row, col, n):\n",
        "    # Check the same column for any queen\n",
        "    for previous_row in range(current_row):\n",
        "        if board[previous_row] == col:\n",
        "            return False\n",
        "\n",
        "    # Check the upper left diagonal\n",
        "    i, j = current_row - 1, col - 1\n",
        "    while i >= 0 and j >= 0:\n",
        "        if board[i] == j:\n",
        "            return False\n",
        "        i -= 1\n",
        "        j -= 1\n",
        "\n",
        "    # Check the upper right diagonal\n",
        "    i, j = current_row - 1, col + 1\n",
        "    while i >= 0 and j < n:\n",
        "        if board[i] == j:\n",
        "            return False\n",
        "        i -= 1\n",
        "        j += 1\n",
        "\n",
        "    return True\n",
        "\n",
        "def place_queens(board, row, n, solutions):\n",
        "    # If all queens are placed, add the solution to the list\n",
        "    if row == n:\n",
        "        solution = []\n",
        "        for i in range(n):\n",
        "            # Create a string for the current row: \"Q\" for queen and \".\" for empty\n",
        "            row_representation = [\"Q\" if j == board[i] else \".\" for j in range(n)]\n",
        "            solution.append(\"\".join(row_representation))\n",
        "        solutions.append(solution)\n",
        "        return\n",
        "\n",
        "    # Try placing a queen in each column of the current row\n",
        "    for col in range(n):\n",
        "        if is_position_safe(board, row, col, n):\n",
        "            board[row] = col\n",
        "            place_queens(board, row + 1, n, solutions)\n",
        "            # Backtracking happens implicitly as the loop continues\n",
        "\n",
        "def solve_n_queens(n):\n",
        "    board = [-1] * n  # board[i] will hold the column index of the queen in the i-th row\n",
        "    solutions = []\n",
        "    place_queens(board, 0, n, solutions)\n",
        "    return solutions\n",
        "\n",
        "def main():\n",
        "    try:\n",
        "        n = int(input(\"Enter the number of queens (N): \"))\n",
        "        if n <= 0:\n",
        "            print(\"N must be a positive integer.\")\n",
        "            return\n",
        "    except ValueError:\n",
        "        print(\"Invalid input. Please enter a valid integer.\")\n",
        "        return\n",
        "\n",
        "    solutions = solve_n_queens(n)\n",
        "    print(f\"\\nTotal solutions for {n}-Queens: {len(solutions)}\\n\")\n",
        "    for idx, sol in enumerate(solutions, 1):\n",
        "        print(f\"Solution {idx}:\")\n",
        "        for row in sol:\n",
        "            print(row)\n",
        "        print()\n",
        "\n",
        "if __name__ == '__main__':\n",
        "    main()\n"
      ]
    }
  ]
}